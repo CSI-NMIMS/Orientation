{
  "nbformat": 4,
  "nbformat_minor": 0,
  "metadata": {
    "colab": {
      "name": "Python CSI 1st Year Orientation.ipynb",
      "provenance": [],
      "collapsed_sections": [],
      "include_colab_link": true
    },
    "kernelspec": {
      "name": "python3",
      "display_name": "Python 3"
    }
  },
  "cells": [
    {
      "cell_type": "markdown",
      "metadata": {
        "id": "view-in-github",
        "colab_type": "text"
      },
      "source": [
        "<a href=\"https://colab.research.google.com/github/CSI-NMIMS/Orientation/blob/main/Python_CSI_1st_Year_Orientation.ipynb\" target=\"_parent\"><img src=\"https://colab.research.google.com/assets/colab-badge.svg\" alt=\"Open In Colab\"/></a>"
      ]
    },
    {
      "cell_type": "markdown",
      "metadata": {
        "id": "uQa8Slgb38ec"
      },
      "source": [
        "### We start by the infamous \"Hello World!\""
      ]
    },
    {
      "cell_type": "code",
      "metadata": {
        "id": "E7mJQx8_38Il"
      },
      "source": [
        "print(\"Hello world!!\")"
      ],
      "execution_count": null,
      "outputs": []
    },
    {
      "cell_type": "markdown",
      "metadata": {
        "id": "5H_NBOE52-8T"
      },
      "source": [
        "### We declare a variable by assigning a value to it."
      ]
    },
    {
      "cell_type": "code",
      "metadata": {
        "id": "B_AgNF081ego"
      },
      "source": [
        "x = 4\n",
        "print(x)\n",
        "\n",
        "y = \"Sally\"\n",
        "print(y)"
      ],
      "execution_count": null,
      "outputs": []
    },
    {
      "cell_type": "markdown",
      "metadata": {
        "id": "4jNvJVzQ4sJt"
      },
      "source": [
        "### Trying to print them togther."
      ]
    },
    {
      "cell_type": "code",
      "metadata": {
        "id": "nUv830_O3j0C"
      },
      "source": [
        "print(x,y)"
      ],
      "execution_count": null,
      "outputs": []
    },
    {
      "cell_type": "markdown",
      "metadata": {
        "id": "PChOaf8W7Sl8"
      },
      "source": [
        "###Let's know about comments"
      ]
    },
    {
      "cell_type": "code",
      "metadata": {
        "id": "JSRMCJa37jKz"
      },
      "source": [
        "#This is how you put comments in python.\n",
        "\n",
        "\"\"\"\n",
        "This is a comment\n",
        "spread over\n",
        "more than just one line\n",
        "\"\"\""
      ],
      "execution_count": null,
      "outputs": []
    },
    {
      "cell_type": "markdown",
      "metadata": {
        "id": "tJqsYT333SZi"
      },
      "source": [
        "### New value overwrite older value"
      ]
    },
    {
      "cell_type": "code",
      "metadata": {
        "id": "YX5ca1mA3fq7"
      },
      "source": [
        "print(y)\n",
        "y=\"Not Sally\"\n",
        "#Random comment to check if it is part of the execution.\n",
        "print(y) #Comments need not to be on the new line."
      ],
      "execution_count": null,
      "outputs": []
    },
    {
      "cell_type": "markdown",
      "metadata": {
        "id": "T6toK8_Onc2W"
      },
      "source": [
        "### Allowed variable nomenclature"
      ]
    },
    {
      "cell_type": "code",
      "metadata": {
        "id": "f-nGR3itnm0T"
      },
      "source": [
        "allowedname = \"randomstring\"\n",
        "not_myage = 54\n",
        "_my_age = 20\n",
        "MyCar = \"Swift\"\n",
        "OUTOFIDEAS = True\n",
        "Canhavenumbers2 = \"Yayy\""
      ],
      "execution_count": null,
      "outputs": []
    },
    {
      "cell_type": "markdown",
      "metadata": {
        "id": "fTa871BNoQi1"
      },
      "source": [
        "### NOT ALLOWED Variable names"
      ]
    },
    {
      "cell_type": "code",
      "metadata": {
        "id": "LmdFLs0AocLd"
      },
      "source": [
        "2apples = \"Steve jobs is angry\""
      ],
      "execution_count": null,
      "outputs": []
    },
    {
      "cell_type": "code",
      "metadata": {
        "id": "yZDNohbyaGdA"
      },
      "source": [
        "dashed-names = \"that's not gonna happen\""
      ],
      "execution_count": null,
      "outputs": []
    },
    {
      "cell_type": "code",
      "metadata": {
        "id": "ZBRzicHCaHva"
      },
      "source": [
        "no spaces = \"atleast we got underscores\""
      ],
      "execution_count": null,
      "outputs": []
    },
    {
      "cell_type": "markdown",
      "metadata": {
        "id": "t8zz9D63tuRA"
      },
      "source": [
        "###Multiple declaration"
      ]
    },
    {
      "cell_type": "code",
      "metadata": {
        "id": "P4TMWa5ntxO3"
      },
      "source": [
        "var1,var2,var3 = \"this\", \"is\", \"noice!\"\n",
        "print(var1)\n",
        "print(var2)\n",
        "print(var3)"
      ],
      "execution_count": null,
      "outputs": []
    },
    {
      "cell_type": "code",
      "metadata": {
        "id": "Orzv7aRmuIqe"
      },
      "source": [
        "var1 = var2 = var3 = \"TRIPLE NICE!!!\"\n",
        "print(var1,var2,var3)"
      ],
      "execution_count": null,
      "outputs": []
    },
    {
      "cell_type": "markdown",
      "metadata": {
        "id": "Bqfwr73628MA"
      },
      "source": [
        "#Arithematic Operators on numbers\n",
        "\n",
        "\n",
        "\n",
        "1. Addition +\n",
        "2. Substraction -\n",
        "3. Multiplication *\n",
        "4. Float Division /\n",
        "5. Floor Division //\n",
        "6. Modulus %\n",
        "7. Power **\n",
        "\n"
      ]
    },
    {
      "cell_type": "code",
      "metadata": {
        "id": "gRtcstj42668"
      },
      "source": [
        "a=5\n",
        "b=4\n",
        "\n",
        "print( a + b )\n",
        "print( a - b )\n",
        "print( a * b )\n",
        "print( a / b )\n",
        "print( a //b )\n",
        "print( a % b )\n",
        "print( a **b )"
      ],
      "execution_count": null,
      "outputs": []
    },
    {
      "cell_type": "markdown",
      "metadata": {
        "id": "oqzj4xdDuv-m"
      },
      "source": [
        "###Concatenation?Adding?"
      ]
    },
    {
      "cell_type": "code",
      "metadata": {
        "id": "qIrfvzmau8JW"
      },
      "source": [
        "a=\"Simple\"\n",
        "print(\"Programming is \" + a)"
      ],
      "execution_count": null,
      "outputs": []
    },
    {
      "cell_type": "code",
      "metadata": {
        "id": "U5J1ZMz0vSNm"
      },
      "source": [
        "b=\"Programming is \"\n",
        "print(b+a)"
      ],
      "execution_count": null,
      "outputs": []
    },
    {
      "cell_type": "markdown",
      "metadata": {
        "id": "7qXtXrbIvgO5"
      },
      "source": [
        "###Works great with numbers"
      ]
    },
    {
      "cell_type": "code",
      "metadata": {
        "id": "o-1iTXFNvji2"
      },
      "source": [
        "print(not_myage)\n",
        "print(_my_age)"
      ],
      "execution_count": null,
      "outputs": []
    },
    {
      "cell_type": "code",
      "metadata": {
        "id": "EtRorMv-wLj4"
      },
      "source": [
        "print(not_myage + _my_age)"
      ],
      "execution_count": null,
      "outputs": []
    },
    {
      "cell_type": "markdown",
      "metadata": {
        "id": "Cnc463qIwVbd"
      },
      "source": [
        "###But...."
      ]
    },
    {
      "cell_type": "code",
      "metadata": {
        "id": "J4fDg11RxOJr"
      },
      "source": [
        "print(\"my age is \" + _my_age)"
      ],
      "execution_count": null,
      "outputs": []
    },
    {
      "cell_type": "markdown",
      "metadata": {
        "id": "sugDAvo5xYvb"
      },
      "source": [
        "###And that takes us to... \n",
        "#DATA TYPES"
      ]
    },
    {
      "cell_type": "markdown",
      "metadata": {
        "id": "9UlGCaSw0pXf"
      },
      "source": [
        "\n",
        "\n",
        "*   Text Type:\tstr \n",
        "*   Numeric Types:\tint, float, complex\n",
        "*   Sequence Types:\tlist, tuple, range\n",
        "*   Mapping Type:\tdict\n",
        "*   Set Types:\tset, frozenset\n",
        "*   Boolean Type:\tbool\n",
        "*   Binary Types:\tbytes, bytearray, memoryview\n",
        "\n",
        "Catagories (Basically what I use the most):\n",
        "\n",
        "1.   list, int, str \n",
        "2.   float, dict, tuple, bool\n",
        "3.   range, complex, set\n",
        "\n",
        "\n",
        "\n",
        "\n",
        "\n",
        "\n",
        "\n",
        "\n",
        "\n",
        "\n",
        "\n",
        "\n",
        "\n",
        "\n",
        "\n",
        "\n"
      ]
    },
    {
      "cell_type": "code",
      "metadata": {
        "id": "Pgb_wycP3-xu"
      },
      "source": [
        "a = \"this is a string\"\n",
        "b = 99\n",
        "c = 99.99\n",
        "d = 6+8j\n",
        "e = [\"element\",\"can\",\"be\", 74, 74]\n",
        "f = (\"element\",\"can\",\"be\", 74, 74)\n",
        "g = range(10) # THIS IS SO FUN\n",
        "h = {\n",
        "    \"key1\" : \"this opens lock 1\",\n",
        "    \"key2\" : \"this opens lock 2\",\n",
        "    \"masterkey\":\"this opens all locks\"\n",
        "    }\n",
        "i = True\n",
        "\n",
        "\n"
      ],
      "execution_count": null,
      "outputs": []
    },
    {
      "cell_type": "markdown",
      "metadata": {
        "id": "RFFwq0zd-FB9"
      },
      "source": [
        "###Let's check their datatypes\n",
        "\n",
        "we use\n",
        "\n",
        "```print(type(variable)```"
      ]
    },
    {
      "cell_type": "code",
      "metadata": {
        "id": "SRtE7TFx9OKl",
        "colab": {
          "base_uri": "https://localhost:8080/"
        },
        "outputId": "41c3ad04-26f0-4f7b-cc90-7fcf636d2268"
      },
      "source": [
        "CoolList=[a,b,c,d,e,f,g,h,i]\n",
        "for iterator in CoolList:\n",
        "  print(type(iterator),iterator)"
      ],
      "execution_count": null,
      "outputs": [
        {
          "output_type": "stream",
          "text": [
            "<class 'str'> this is a string\n",
            "<class 'int'> 99\n",
            "<class 'float'> 99.99\n",
            "<class 'complex'> (6+8j)\n",
            "<class 'list'> ['element', 'can', 'be', 74, 74]\n",
            "<class 'tuple'> ('element', 'can', 'be', 74, 74)\n",
            "<class 'range'> range(0, 10)\n",
            "<class 'dict'> {'key1': 'this opens lock 1', 'key2': 'this opens lock 2', 'masterkey': 'this opens all locks'}\n",
            "<class 'bool'> True\n"
          ],
          "name": "stdout"
        }
      ]
    },
    {
      "cell_type": "markdown",
      "metadata": {
        "id": "mVaNnJQU6ZS5"
      },
      "source": [
        "##Accessing and manipulating Sequence DataTypes"
      ]
    },
    {
      "cell_type": "code",
      "metadata": {
        "id": "-m4oyVmH6a2q"
      },
      "source": [
        ""
      ],
      "execution_count": null,
      "outputs": []
    },
    {
      "cell_type": "markdown",
      "metadata": {
        "id": "8x-q-jyal1KG"
      },
      "source": [
        "###Tuples are immutable. Lists are mutable\n",
        "that means you can edit/ change/ update a list but not a tuple.\n",
        "Let's try that by taking a list and a tuple and adding an element by using .append() function."
      ]
    },
    {
      "cell_type": "code",
      "metadata": {
        "id": "cei1cDkYcWfQ",
        "colab": {
          "base_uri": "https://localhost:8080/"
        },
        "outputId": "555406f6-6e70-4cdb-fb07-2caa3332ff4e"
      },
      "source": [
        "list1=[\"apple\",\"not apple\",\"banana\"]\n",
        "print(list1)"
      ],
      "execution_count": null,
      "outputs": [
        {
          "output_type": "stream",
          "text": [
            "['apple', 'not apple', 'banana']\n"
          ],
          "name": "stdout"
        }
      ]
    },
    {
      "cell_type": "code",
      "metadata": {
        "id": "s8zv9uGOcrgY",
        "colab": {
          "base_uri": "https://localhost:8080/"
        },
        "outputId": "62f58264-e1d1-4875-a7f8-35da7630a8aa"
      },
      "source": [
        "tuple1=(\"python\",\"scala\",\"kotlin\")\n",
        "print(tuple1)"
      ],
      "execution_count": null,
      "outputs": [
        {
          "output_type": "stream",
          "text": [
            "('python', 'scala', 'kotlin')\n"
          ],
          "name": "stdout"
        }
      ]
    },
    {
      "cell_type": "code",
      "metadata": {
        "id": "sZJj31gmkVq0"
      },
      "source": [
        "list1.append(\"Ruby\")\n",
        "tuple1.append(\"Ruby\")"
      ],
      "execution_count": null,
      "outputs": []
    },
    {
      "cell_type": "markdown",
      "metadata": {
        "id": "wSyuhrPKmYmG"
      },
      "source": [
        "This happens because tuple object does not have .append() function"
      ]
    },
    {
      "cell_type": "code",
      "metadata": {
        "id": "UAOYZiPDltKm"
      },
      "source": [
        "print(list1,tuple1)"
      ],
      "execution_count": null,
      "outputs": []
    },
    {
      "cell_type": "markdown",
      "metadata": {
        "id": "HjQ-ihcZm3FM"
      },
      "source": [
        "#If-Else {Conditionals}\n",
        "We dont use brackets in python. we use indentations. Let's see how it is done. "
      ]
    },
    {
      "cell_type": "markdown",
      "metadata": {
        "id": "1JrOIcBFr4tx"
      },
      "source": [
        "    this is an example code block\n",
        "      this is part of first indented block\n",
        "      this is second line of first indented block\n",
        "      this is the third line\n",
        "        this is starting of second incented block\n",
        "        see there is double space before these lines than the first indented block\n",
        "      this line looks like its a new block but it is not\n",
        "      it is part of first intendeb block\n",
        "\n",
        "\n",
        "##You can think of it as\n",
        "\n",
        "    this is an example code block\n",
        "    {\n",
        "      this is part of first indented block\n",
        "      this is second line of first indented block\n",
        "      this is the third line\n",
        "      {\n",
        "        this is starting of second indented block\n",
        "        see there is double space before these lines than the first indented block\n",
        "      }\n",
        "      this line looks like its a new block but it is not\n",
        "      it is part of first indented block\n",
        "    }"
      ]
    },
    {
      "cell_type": "code",
      "metadata": {
        "id": "01BnfnQZpwA5"
      },
      "source": [
        "#basic If statement\n",
        "print(\"1\")\n",
        "print(\"2\")\n",
        "print(\"3\")\n",
        "print(\"4\")\n",
        "#if the condition in front of \"if\" returns a 'True', it runs the next code block, otherwise it does not\n",
        "if 5>3: \n",
        "  print(\"five\")\n",
        "print(\"6\")"
      ],
      "execution_count": null,
      "outputs": []
    },
    {
      "cell_type": "markdown",
      "metadata": {
        "id": "H55_PYXttC0t"
      },
      "source": [
        "\n",
        "##Python If statement supports these logical conditions:\n",
        "1.   Equals: a == b\n",
        "2.   Not Equals: a != b\n",
        "3.   Less than: a < b\n",
        "4.   Less than or equal to: a <= b\n",
        "5.   Greater than: a > b\n",
        "6.   Greater than or equal to: a >= b\n"
      ]
    },
    {
      "cell_type": "markdown",
      "metadata": {
        "id": "S8qZkdmGsNKs"
      },
      "source": [
        ""
      ]
    },
    {
      "cell_type": "code",
      "metadata": {
        "id": "8N3y_-4woCum"
      },
      "source": [
        "#Basic if statement\n",
        "CsiMember=True\n",
        "if (CsiMember == True):\n",
        "  print(\"You're good to go\")\n",
        "else:\n",
        "  print(\"Go! Register!\")\n"
      ],
      "execution_count": null,
      "outputs": []
    },
    {
      "cell_type": "code",
      "metadata": {
        "id": "K_QeKETkvY9j"
      },
      "source": [
        "#let's try making a number comparision program\n",
        "a=23\n",
        "b=34\n",
        "if (a>b):\n",
        "  print(\"a is greater\")\n",
        "if (a<b):\n",
        "  print(\"b is greater\")\n",
        "else:\n",
        "  print(\"both are equal\")"
      ],
      "execution_count": null,
      "outputs": []
    },
    {
      "cell_type": "markdown",
      "metadata": {
        "id": "Z1mLsqSJxLnt"
      },
      "source": [
        "#'and' & 'or' \n",
        "and & or are logical operators used to combine conditional satements.\n",
        "###And gives an output \"True\" if both conditions are true. else it gives false.\n",
        "###Or gives an output \"True\" if atleast 1 of the conditions is true. else it gives false.\n",
        "\n"
      ]
    },
    {
      "cell_type": "code",
      "metadata": {
        "id": "Z8c6srC1zBFV"
      },
      "source": [
        "#Let's see some examples\n",
        "print(\"for and conditions\")\n",
        "if (True and True):\n",
        "  print(\"condition one passes\\n\")\n",
        "if (True and False):\n",
        "  print(\"condition two passes\")\n",
        "if (False and True):\n",
        "  print(\"condition three passes\")\n",
        "if (False and False):\n",
        "  print(\"condition four passes\")\n",
        "\n",
        "print(\"for or conditions\")\n",
        "if (True or True):\n",
        "  print(\"condition one passes\")\n",
        "if (True or False):\n",
        "  print(\"condition two passes\")\n",
        "if (False or True):\n",
        "  print(\"condition three passes\")\n",
        "if (False or False):\n",
        "  print(\"condition four passes\")\n"
      ],
      "execution_count": null,
      "outputs": []
    },
    {
      "cell_type": "markdown",
      "metadata": {
        "id": "46RJrTyn12FK"
      },
      "source": [
        "Now how would check a lot of conditions togther, say 5 conditions.\n",
        "so what we do in that case is, we use \n",
        "##nested If statements.\n",
        "it means if condition inside another if block and so on.\n",
        "we can learn from an example better. "
      ]
    },
    {
      "cell_type": "code",
      "metadata": {
        "id": "HrBjI2Fs2Uh8"
      },
      "source": [
        "#make a program to check if number is between 7 square and 10 square\n",
        "sq7 = 7**2\n",
        "sq10 = 10**2\n",
        "\n",
        "number=65\n",
        "if (number > sq7 and number < sq10):\n",
        "  print(\"number is between\",sq7,\"and\",sq10)\n",
        "\n",
        "#similarly\n",
        "print(\"\\nmethod 2\")\n",
        "\n",
        "if (number > sq7 ):\n",
        "  print(\"greater than\",sq7)\n",
        "  if (number < sq10):\n",
        "    print(\"smaller than\",sq10)\n"
      ],
      "execution_count": null,
      "outputs": []
    }
  ]
}